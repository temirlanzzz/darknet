{
 "cells": [
  {
   "cell_type": "code",
   "execution_count": 4,
   "id": "e06e119a",
   "metadata": {},
   "outputs": [],
   "source": [
    "with open('results.txt','r') as f:\n",
    "    l = f.readline()\n",
    "    i = 1\n",
    "    sum = 0.0\n",
    "    while l:\n",
    "        sum += float(l.split(' ')[0].split('=')[1])\n",
    "        if i % 21 == 0:\n",
    "            print('layer ',i//21)\n",
    "        i += 1\n",
    "        l = f.readline()"
   ]
  },
  {
   "cell_type": "code",
   "execution_count": null,
   "id": "c28b1ad5",
   "metadata": {},
   "outputs": [],
   "source": []
  }
 ],
 "metadata": {
  "kernelspec": {
   "display_name": "Python 3 (ipykernel)",
   "language": "python",
   "name": "python3"
  },
  "language_info": {
   "codemirror_mode": {
    "name": "ipython",
    "version": 3
   },
   "file_extension": ".py",
   "mimetype": "text/x-python",
   "name": "python",
   "nbconvert_exporter": "python",
   "pygments_lexer": "ipython3",
   "version": "3.8.10"
  }
 },
 "nbformat": 4,
 "nbformat_minor": 5
}
